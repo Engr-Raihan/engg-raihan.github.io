{
 "cells": [
  {
   "cell_type": "code",
   "execution_count": 1,
   "metadata": {},
   "outputs": [],
   "source": [
    "# x = [240, 750, 1020, 1400, 1700, 2300, 2900]\n",
    "# y = [7.0, 22.4, 29.7, 40.9, 52.3, 70.5, 85,.1]\n",
    "\n",
    "# Hypothesis: h(x) = theta0 + theta1*x\n",
    "# Parameters: theta0, theta1\n",
    "# Cost Function: J(theta0, theta1) = 1/2m Sum_1toM (h(X) - Y)^2\n",
    "# Goal: minimize J(theta0, theta1)\n",
    "\n",
    "# y_hat = theta0*b + theta1*x | Z = Theta^T X\n",
    "# theta = theta - alpha * d/d*theta J(theta0, theta1)\n",
    "# theta1 = theta1 - alpha * d/d*theta1 J(theta0, theta1)\n",
    "# theta0 = theta0 - alpha * d/d*theta0 J(theta0, theta1)"
   ]
  },
  {
   "cell_type": "code",
   "execution_count": 31,
   "metadata": {},
   "outputs": [],
   "source": [
    "import numpy as np\n",
    "from matplotlib import pyplot as plt\n",
    "\n",
    "x = np.array([240, 750, 1020, 1400, 1700, 2300, 2900])\n",
    "y = np.array([7.0, 22.4, 29.7, 40.9, 52.3, 70.5, 85.1])"
   ]
  },
  {
   "cell_type": "code",
   "execution_count": 32,
   "metadata": {},
   "outputs": [],
   "source": [
    "x_max = np.max(x)\n",
    "y_max = np.max(y)"
   ]
  },
  {
   "cell_type": "code",
   "execution_count": 33,
   "metadata": {},
   "outputs": [],
   "source": [
    "x = x/x_max\n",
    "y = y/y_max"
   ]
  },
  {
   "cell_type": "code",
   "execution_count": 34,
   "metadata": {},
   "outputs": [
    {
     "name": "stdout",
     "output_type": "stream",
     "text": [
      "[[1.         1.         1.         1.         1.         1.\n",
      "  1.        ]\n",
      " [0.08275862 0.25862069 0.35172414 0.48275862 0.5862069  0.79310345\n",
      "  1.        ]]\n"
     ]
    }
   ],
   "source": [
    "# print(x.size)\n",
    "\n",
    "x_train = np.ones([2, x.size])\n",
    "x_train[1] = x; # x_train[1, :] = x;\n",
    "print(x_train)"
   ]
  },
  {
   "cell_type": "code",
   "execution_count": 35,
   "metadata": {},
   "outputs": [],
   "source": [
    "def init_param():\n",
    "    theta = np.random.rand(1, 2)\n",
    "    return theta\n",
    "\n",
    "# print(init_param())\n",
    "\n",
    "def sigmoid(z):\n",
    "    return 1.0/(1+np.exp(-z))\n",
    "\n",
    "def derivative_sigmoid(z):\n",
    "    return sigmoid(z)*(1-sigmoid(z))"
   ]
  },
  {
   "cell_type": "code",
   "execution_count": 49,
   "metadata": {},
   "outputs": [],
   "source": [
    "def ReLU(z):\n",
    "    return np.max(z, 0)\n",
    "\n",
    "def forward_prop(theta, x):\n",
    "    z = theta.dot(x)\n",
    "    # z = np.multiply(theta, x)\n",
    "    h = ReLU(z)\n",
    "    return z, h\n",
    "\n",
    "\n",
    "def derivative_ReLU(z):\n",
    "    return z > 0\n",
    "\n",
    "def backward_prop(X, Y, z, h, theta, alpha, m):\n",
    "    s_del = h - Y\n",
    "    deriv = derivative_ReLU(z)\n",
    "    s_del = np.multiply(s_del, deriv)\n",
    "    b_del = s_del.dot(X.T)\n",
    "    theta = theta-(1/m)*alpha*b_del\n",
    "    return theta\n",
    "\n",
    "def get_error(h, y):\n",
    "    return np.sum(np.multiply((h-y), (h-y)))/y.size\n",
    "\n",
    "def gradient_decent(X, Y, iteration):\n",
    "    theta = init_param()\n",
    "    for i in range(iteration):\n",
    "        z, h = forward_prop(theta, X)\n",
    "        theta = backward_prop(X, Y, z, h, theta, .1, y.size)\n",
    "        if (i%1000 == 0):\n",
    "            print('iteration', i)\n",
    "            print('error', get_error(h, Y))\n",
    "\n",
    "    return theta"
   ]
  },
  {
   "cell_type": "code",
   "execution_count": 50,
   "metadata": {},
   "outputs": [
    {
     "name": "stdout",
     "output_type": "stream",
     "text": [
      "iteration 0\n",
      "error 0.26211643095093223\n",
      "iteration 1000\n",
      "error 0.00018386616873587123\n",
      "iteration 2000\n",
      "error 0.0001837079789446615\n",
      "iteration 3000\n",
      "error 0.00018370797870978812\n",
      "iteration 4000\n",
      "error 0.00018370797870978744\n",
      "iteration 5000\n",
      "error 0.000183707978709786\n",
      "iteration 6000\n",
      "error 0.000183707978709786\n",
      "iteration 7000\n",
      "error 0.000183707978709786\n",
      "iteration 8000\n",
      "error 0.000183707978709786\n",
      "iteration 9000\n",
      "error 0.000183707978709786\n"
     ]
    }
   ],
   "source": [
    "final_theta = gradient_decent(x_train, y, 10000)"
   ]
  },
  {
   "cell_type": "code",
   "execution_count": 68,
   "metadata": {},
   "outputs": [],
   "source": [
    "Predict_X = np.array([500, 1500, 2000])\n",
    "Predict_X = Predict_X / x_max\n",
    "\n",
    "Test_Prd_X = np.ones([2, Predict_X.size])\n",
    "Test_Prd_X[1] = Predict_X\n",
    "\n",
    "Predicted_Y = final_theta.dot(Test_Prd_X)"
   ]
  },
  {
   "cell_type": "code",
   "execution_count": 58,
   "metadata": {},
   "outputs": [
    {
     "name": "stdout",
     "output_type": "stream",
     "text": [
      "[[14.87143478 44.79800696 59.76129305]]\n"
     ]
    }
   ],
   "source": [
    "print(Predicted_Y*y_max)"
   ]
  },
  {
   "cell_type": "code",
   "execution_count": 69,
   "metadata": {},
   "outputs": [
    {
     "name": "stdout",
     "output_type": "stream",
     "text": [
      "[[0.08331993 0.26266836 0.35761754 0.4912497  0.59674878 0.80774694\n",
      "  1.0187451 ]]\n"
     ]
    },
    {
     "data": {
      "image/png": "[encoded data removed]",
      "text/plain": [
       "<Figure size 640x480 with 1 Axes>"
      ]
     },
     "metadata": {},
     "output_type": "display_data"
    }
   ],
   "source": [
    "def plot_carve(X, Y, theta):\n",
    "    y_cal = theta.dot(X)\n",
    "    # plt.plot(X[1], (Y.T), 'rs', X[1], (y_cal.T), 'b--')\n",
    "    plt.plot(X[1], (Y.T), 'rs', X[1], (y_cal.T), 'b--', Predict_X, (Predicted_Y.T), 'g^')\n",
    "    plt.xlabel('Area in Sq. ft.')\n",
    "    plt.ylabel('Price in lac taka')\n",
    "    return y_cal\n",
    "\n",
    "print(plot_carve(x_train, y, final_theta))"
   ]
  }
 ],
 "metadata": {
  "kernelspec": {
   "display_name": "base",
   "language": "python",
   "name": "python3"
  },
  "language_info": {
   "codemirror_mode": {
    "name": "ipython",
    "version": 3
   },
   "file_extension": ".py",
   "mimetype": "text/x-python",
   "name": "python",
   "nbconvert_exporter": "python",
   "pygments_lexer": "ipython3",
   "version": "3.11.7"
  }
 },
 "nbformat": 4,
 "nbformat_minor": 2
}
