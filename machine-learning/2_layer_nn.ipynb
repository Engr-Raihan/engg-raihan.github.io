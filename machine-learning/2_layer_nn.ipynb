{
 "cells": [
  {
   "cell_type": "code",
   "execution_count": 1,
   "metadata": {},
   "outputs": [],
   "source": [
    "# Hypothesis: h(x) = theta0 + theta1*x\n",
    "# Parameters: theta0, theta1\n",
    "# Cost Function: J(theta0, theta1) = 1/2m Sum_1toM (h(X) - Y)^2\n",
    "# Goal: minimize J(theta0, theta1)\n",
    "\n",
    "# y_hat = theta0*b + theta1*x | Z = Theta^T X\n",
    "# theta = theta - alpha * d/d*theta J(theta0, theta1)\n",
    "# theta1 = theta1 - alpha * d/d*theta1 J(theta0, theta1)\n",
    "# theta0 = theta0 - alpha * d/d*theta0 J(theta0, theta1)\n",
    "\n",
    "# m = number of inputs\n",
    "# n = number of features"
   ]
  },
  {
   "cell_type": "code",
   "execution_count": 2,
   "metadata": {},
   "outputs": [],
   "source": [
    "# loading the mnist dataset\n",
    "# from tensorflow.keras.datasets.mnist import load_data\n",
    "\n",
    "# load the images into memory\n",
    "# (trainX, trainy), (testX, testy) = load_data()\n",
    "\n",
    "# summarize the shape of the dataset\n",
    "# print('Train', trainX.shape, trainy.shape)\n",
    "# print('Test', testX.shape, testy.shape)"
   ]
  },
  {
   "cell_type": "code",
   "execution_count": 7,
   "metadata": {},
   "outputs": [
    {
     "name": "stdout",
     "output_type": "stream",
     "text": [
      "42000 785\n"
     ]
    }
   ],
   "source": [
    "import numpy as np\n",
    "import pandas as pd\n",
    "from matplotlib import pyplot as plt\n",
    "\n",
    "data = pd.read_csv('mnist/train.csv')\n",
    "data = np.array(data)\n",
    "m, n = data.shape\n",
    "print(m, n)"
   ]
  },
  {
   "cell_type": "code",
   "execution_count": 10,
   "metadata": {},
   "outputs": [
    {
     "name": "stdout",
     "output_type": "stream",
     "text": [
      "785\n"
     ]
    }
   ],
   "source": [
    "m_test = 1000\n",
    "\n",
    "np.random.shuffle(data)\n",
    "data_test = data[0: m_test].T\n",
    "y_test = data_test[0]\n",
    "x_test = data_test / 255\n",
    "x_test[0] = np.ones(m_test)\n",
    "# y_test: (785, 1000)\n",
    "\n",
    "\n",
    "data_train = data[m_test:].T\n",
    "y_train = data_train[0]\n",
    "x_train = data_train / 255\n",
    "x_train[0] = np.ones(m-m_test)\n",
    "# y_test: (785, 61000)\n",
    "\n",
    "n_input, _ = x_train.shape\n",
    "n_hidden = 28\n",
    "n_output = 10"
   ]
  },
  {
   "cell_type": "code",
   "execution_count": 18,
   "metadata": {},
   "outputs": [
    {
     "data": {
      "image/png": "[encoded data removed]",
      "text/plain": [
       "<Figure size 640x480 with 1 Axes>"
      ]
     },
     "metadata": {},
     "output_type": "display_data"
    }
   ],
   "source": [
    "def show_data(x, y, index):\n",
    "    current_img = x[1:n_input, index]\n",
    "    current_label = y[index]\n",
    "    current_img = current_img.reshape((28, 28)) * 255\n",
    "    plt.gray()\n",
    "    plt.imshow(current_img)\n",
    "    plt.title(current_label)\n",
    "    plt.show\n",
    "\n",
    "\n",
    "show_data(x_train, y_train, 76)"
   ]
  },
  {
   "cell_type": "code",
   "execution_count": 49,
   "metadata": {},
   "outputs": [],
   "source": [
    "def init_param():\n",
    "    theta1 = np.random.rand(n_hidden, n_input+1) - .5\n",
    "    theta2 = np.random.rand(n_output, n_hidden+1) - .5\n",
    "    return theta1, theta2\n",
    "\n",
    "def sigmoid(z):\n",
    "    return 1.0/(1+np.exp(-z))\n",
    "\n",
    "def derivative_sigmoid(z):\n",
    "    return sigmoid(z)*(1-sigmoid(z))\n",
    "\n",
    "def ReLU(z):\n",
    "    return np.max(z, 0)\n",
    "\n",
    "def derivative_ReLU(z):\n",
    "    return z > 0\n",
    "\n",
    "def forward_prop(theta1, theta2, x):\n",
    "    z2 = theta1.dot(x)\n",
    "    a2_temp = ReLU(z2)\n",
    "    a2 = np.ones([n_hidden+1, m_train])\n",
    "    a2[1: n_hidden+1, :] = a2_temp\n",
    "    z3 = theta2.dot(a2)\n",
    "    a3 = sigmoid(z3)\n",
    "    return z2, a2, z3, a3\n",
    "\n",
    "def y_convert(y):\n",
    "    y_convert_y = np.zeros(y.size, y.max()+1)\n",
    "    y_convert_y[np.arange(y.size), y] = 1\n",
    "    y_convert_y = y_convert_y.T\n",
    "    return y_convert_y\n",
    "\n",
    "def backward_prop(Z2, A2, Z3, A3, X, Y, theta2):\n",
    "    Y_convert_y = y_convert(Y)\n",
    "    s_del3 = A3 - Y_convert_y\n",
    "    deriv = derivative_sigmoid(Z3)\n",
    "    # deriv = derivative_ReLU(z)\n",
    "    s_del3 = np.multiply(s_del3, deriv)\n",
    "    b_del2 = s_del3.dot(A2.T)\n",
    "    temp1 = (theta2.T).dot(s_del3)\n",
    "    temp2 = temp1[1:n_hidden+1, :]\n",
    "    temp3 = derivative_ReLU(Z2)\n",
    "    # theta = theta-(1/m)*alpha*b_del\n",
    "    return theta\n",
    "\n",
    "def get_error(h, y):\n",
    "    return np.sum(np.multiply((h-y), (h-y)))/y.size\n",
    "\n",
    "def gradient_decent(X, Y, iteration):\n",
    "    theta = init_param()\n",
    "    for i in range(iteration):\n",
    "        z, h = forward_prop(theta, X)\n",
    "        theta = backward_prop(X, Y, z, h, theta, .1, y.size)\n",
    "        if (i%1000 == 0):\n",
    "            print('iteration', i)\n",
    "            print('error', get_error(h, Y))\n",
    "\n",
    "    return theta"
   ]
  },
  {
   "cell_type": "code",
   "execution_count": 50,
   "metadata": {},
   "outputs": [
    {
     "name": "stdout",
     "output_type": "stream",
     "text": [
      "iteration 0\n",
      "error 0.26211643095093223\n",
      "iteration 1000\n",
      "error 0.00018386616873587123\n",
      "iteration 2000\n",
      "error 0.0001837079789446615\n",
      "iteration 3000\n",
      "error 0.00018370797870978812\n",
      "iteration 4000\n",
      "error 0.00018370797870978744\n",
      "iteration 5000\n",
      "error 0.000183707978709786\n",
      "iteration 6000\n",
      "error 0.000183707978709786\n",
      "iteration 7000\n",
      "error 0.000183707978709786\n",
      "iteration 8000\n",
      "error 0.000183707978709786\n",
      "iteration 9000\n",
      "error 0.000183707978709786\n"
     ]
    }
   ],
   "source": [
    "final_theta = gradient_decent(x_train, y, 10000)"
   ]
  },
  {
   "cell_type": "code",
   "execution_count": 68,
   "metadata": {},
   "outputs": [],
   "source": [
    "Predict_X = np.array([500, 1500, 2000])\n",
    "Predict_X = Predict_X / x_max\n",
    "\n",
    "Test_Prd_X = np.ones([2, Predict_X.size])\n",
    "Test_Prd_X[1] = Predict_X\n",
    "\n",
    "Predicted_Y = final_theta.dot(Test_Prd_X)"
   ]
  },
  {
   "cell_type": "code",
   "execution_count": 58,
   "metadata": {},
   "outputs": [
    {
     "name": "stdout",
     "output_type": "stream",
     "text": [
      "[[14.87143478 44.79800696 59.76129305]]\n"
     ]
    }
   ],
   "source": [
    "print(Predicted_Y*y_max)"
   ]
  },
  {
   "cell_type": "code",
   "execution_count": 69,
   "metadata": {},
   "outputs": [
    {
     "name": "stdout",
     "output_type": "stream",
     "text": [
      "[[0.08331993 0.26266836 0.35761754 0.4912497  0.59674878 0.80774694\n",
      "  1.0187451 ]]\n"
     ]
    },
    {
     "data": {
      "image/png": "[encoded data removed]",
      "text/plain": [
       "<Figure size 640x480 with 1 Axes>"
      ]
     },
     "metadata": {},
     "output_type": "display_data"
    }
   ],
   "source": [
    "def plot_carve(X, Y, theta):\n",
    "    y_cal = theta.dot(X)\n",
    "    # plt.plot(X[1], (Y.T), 'rs', X[1], (y_cal.T), 'b--')\n",
    "    plt.plot(X[1], (Y.T), 'rs', X[1], (y_cal.T), 'b--', Predict_X, (Predicted_Y.T), 'g^')\n",
    "    plt.xlabel('Area in Sq. ft.')\n",
    "    plt.ylabel('Price in lac taka')\n",
    "    return y_cal\n",
    "\n",
    "print(plot_carve(x_train, y, final_theta))"
   ]
  }
 ],
 "metadata": {
  "kernelspec": {
   "display_name": "base",
   "language": "python",
   "name": "python3"
  },
  "language_info": {
   "codemirror_mode": {
    "name": "ipython",
    "version": 3
   },
   "file_extension": ".py",
   "mimetype": "text/x-python",
   "name": "python",
   "nbconvert_exporter": "python",
   "pygments_lexer": "ipython3",
   "version": "3.11.7"
  }
 },
 "nbformat": 4,
 "nbformat_minor": 2
}
